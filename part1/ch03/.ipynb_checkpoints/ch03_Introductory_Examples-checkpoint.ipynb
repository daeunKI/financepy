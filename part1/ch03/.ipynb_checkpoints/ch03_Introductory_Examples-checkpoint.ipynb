{
 "metadata": {
  "name": "",
  "signature": "sha256:91718f95b31ac7265b21f4378b14bfa1cf2418d162b66857b41951c08e053f05"
 },
 "nbformat": 3,
 "nbformat_minor": 0,
 "worksheets": [
  {
   "cells": [
    {
     "cell_type": "heading",
     "level": 1,
     "metadata": {},
     "source": [
      "Chapter3. Introductory Examples"
     ]
    },
    {
     "cell_type": "markdown",
     "metadata": {},
     "source": [
      "* \uad50\uc7ac : Python for Finance: Analyze Big Financial Data - http://www.amazon.com/Python-Finance-Analyze-Financial-Data/dp/1491945281\n",
      "* \uc800\uc790 \ucf54\ub4dc - https://github.com/yhilpisch/py4fi    \n",
      "* \ubc1c\ud45c\uc790 : \uae40\ubb34\uc131"
     ]
    },
    {
     "cell_type": "markdown",
     "metadata": {},
     "source": [
      "## \ucc38\uace0\uc790\ub8cc \n",
      "\n",
      "* \ube14\ub799-\uc204\uc988 \ubaa8\ud615\n",
      " - \ucf5c\uc635\uc158 - http://www.shinhaninvest.com/edu/invest/fut/Invest_fut02_08.htm\n",
      " - \uae08\uc735\uacf5\ud559_\uac15\uc758\ub178\ud2b8_\uae40\uc8fc\ucca0\uad50\uc218\ub2d8_Part I.pdf- http://blog.sunghwanyoo.com/attachment/1017639105.pdf \n",
      " - The Black-Scholes Options Pricing Model - http://www2.hmc.edu/~evans/e136l9.pdf\n",
      " - Derivation of Black-Scholes equation \ube14\ub799-\uc204\uc988 \ubc29\uc815\uc2dd \uc720\ub3c4\uacfc\uc815 - http://infonet.gist.ac.kr/wp-content/uploads/members/Derivation_of_Black_Scholes_equation.pdf\n",
      "* Implied Volatilities (\ub0b4\uc7ac \ubcc0\ub3d9\uc131)\n",
      " - http://www.shinhaninvest.com/edu/invest/fut/Invest_fut02_07.htm\n",
      "* Monte-Carlo Method\n",
      " - Monte-Carlo Method - http://www.slideshare.net/shishirkawde/monte-carlo-10417129\n",
      " - Monte-carlo simulation and the black scholes model - http://www.slideserve.com/ivan-russell/monte-carlo-simulation-and-the-black-scholes-model"
     ]
    },
    {
     "cell_type": "heading",
     "level": 2,
     "metadata": {},
     "source": [
      "\ucc28\ub840 "
     ]
    },
    {
     "cell_type": "markdown",
     "metadata": {},
     "source": [
      "* Implied volatilities\n",
      "* Monte Carlo simulation\n",
      "* Technical analysis\n",
      "* conclusion"
     ]
    },
    {
     "cell_type": "heading",
     "level": 2,
     "metadata": {},
     "source": [
      "Implied Volatilities"
     ]
    },
    {
     "cell_type": "markdown",
     "metadata": {},
     "source": [
      "Option quotes for certain maturity dates are taken to back out the implied volatilities of these options and to plot them - a task option traders and risk managers, among others, are faced with on a daily basis."
     ]
    },
    {
     "cell_type": "markdown",
     "metadata": {},
     "source": [
      "* option pricing formula \n",
      "    - Black-Scholes-Merton formula\n",
      "* implied volatilities - the volatility is not an input parameter for the model/formula, but the result of a (numerical) optimization procedure given that formula\n",
      "* Eurex - http://www.eurexchange.com/exchange-en/\n",
      "* VSTOXX volatility index - http://www.eurexchange.com/advanced-services/"
     ]
    },
    {
     "cell_type": "markdown",
     "metadata": {},
     "source": [
      "<img src='figures/eq3-1.png' width=600 />"
     ]
    },
    {
     "cell_type": "markdown",
     "metadata": {},
     "source": [
      "<img src='figures/eq3-1-means.png' width=600 />"
     ]
    },
    {
     "cell_type": "code",
     "collapsed": false,
     "input": [
      "import warnings\n",
      "warnings.simplefilter('ignore')"
     ],
     "language": "python",
     "metadata": {},
     "outputs": [],
     "prompt_number": 60
    },
    {
     "cell_type": "code",
     "collapsed": false,
     "input": [
      "#\n",
      "# Valuation of European call options in Black-Scholes-Merton model\n",
      "# incl. Vega function and implied volatility estimation\n",
      "# bsm_functions.py\n",
      "#\n",
      "\n",
      "# Analytical Black-Scholes-Merton (BSM) Formula\n",
      "\n",
      "\n",
      "def bsm_call_value(S0, K, T, r, sigma):\n",
      "    ''' Valuation of European call option in BSM model.\n",
      "    Analytical formula.\n",
      "    \n",
      "    Parameters\n",
      "    ==========\n",
      "    S0 : float\n",
      "        initial stock/index level\n",
      "    K : float\n",
      "        strike price\n",
      "    T : float\n",
      "        maturity date (in year fractions)\n",
      "    r : float\n",
      "        constant risk-free short rate\n",
      "    sigma : float\n",
      "        volatility factor in diffusion term\n",
      "    \n",
      "    Returns\n",
      "    =======\n",
      "    value : float\n",
      "        present value of the European call option\n",
      "    '''\n",
      "    from math import log, sqrt, exp\n",
      "    from scipy import stats\n",
      "\n",
      "    S0 = float(S0)\n",
      "    d1 = (log(S0 / K) + (r + 0.5 * sigma ** 2) * T) / (sigma * sqrt(T))\n",
      "    d2 = (log(S0 / K) + (r - 0.5 * sigma ** 2) * T) / (sigma * sqrt(T))\n",
      "    value = (S0 * stats.norm.cdf(d1, 0.0, 1.0)\n",
      "            - K * exp(-r * T) * stats.norm.cdf(d2, 0.0, 1.0))\n",
      "      # stats.norm.cdf --> cumulative distribution function\n",
      "      #                    for normal distribution\n",
      "    return value"
     ],
     "language": "python",
     "metadata": {},
     "outputs": [],
     "prompt_number": 61
    },
    {
     "cell_type": "markdown",
     "metadata": {},
     "source": [
      "<img src='figures/eq3-2.png' width=600 />"
     ]
    },
    {
     "cell_type": "markdown",
     "metadata": {},
     "source": [
      "<img src='figures/eq3-3.png' width=600 />"
     ]
    },
    {
     "cell_type": "code",
     "collapsed": false,
     "input": [
      "\n",
      "\n",
      "# Implied volatility function\n",
      "\n",
      "\n",
      "def bsm_call_imp_vol(S0, K, T, r, C0, sigma_est, it=100):\n",
      "    ''' Implied volatility of European call option in BSM model.\n",
      "    \n",
      "    Parameters\n",
      "    ==========\n",
      "    S0 : float\n",
      "        initial stock/index level\n",
      "    K : float\n",
      "        strike price\n",
      "    T : float\n",
      "        maturity date (in year fractions)\n",
      "    r : float\n",
      "        constant risk-free short rate\n",
      "    sigma_est : float\n",
      "        estimate of impl. volatility\n",
      "    it : integer\n",
      "        number of iterations\n",
      "    \n",
      "    Returns\n",
      "    =======\n",
      "    simga_est : float\n",
      "        numerically estimated implied volatility\n",
      "    '''\n",
      "    for i in range(it):\n",
      "        sigma_est -= ((bsm_call_value(S0, K, T, r, sigma_est) - C0)\n",
      "                        / bsm_vega(S0, K, T, r, sigma_est))\n",
      "    return sigma_est"
     ],
     "language": "python",
     "metadata": {},
     "outputs": [],
     "prompt_number": 62
    },
    {
     "cell_type": "markdown",
     "metadata": {},
     "source": [
      "<img src='figures/eq3-4.png' width=600 />"
     ]
    },
    {
     "cell_type": "code",
     "collapsed": false,
     "input": [
      "\n",
      "# Vega function\n",
      "\n",
      "\n",
      "def bsm_vega(S0, K, T, r, sigma):\n",
      "    ''' Vega of European option in BSM model.\n",
      "    \n",
      "    Parameters\n",
      "    ==========\n",
      "    S0 : float\n",
      "        initial stock/index level\n",
      "    K : float\n",
      "        strike price\n",
      "    T : float\n",
      "        maturity date (in year fractions)\n",
      "    r : float\n",
      "        constant risk-free short rate\n",
      "    sigma : float\n",
      "        volatility factor in diffusion term\n",
      "    \n",
      "    Returns\n",
      "    =======\n",
      "    vega : float\n",
      "        partial derivative of BSM formula with respect\n",
      "        to sigma, i.e. Vega\n",
      "\n",
      "    '''\n",
      "    from math import log, sqrt\n",
      "    from scipy import stats\n",
      "\n",
      "    S0 = float(S0)\n",
      "    d1 = (log(S0 / K) + (r + 0.5 * sigma ** 2) * T) / (sigma * sqrt(T))\n",
      "    vega = S0 * stats.norm.pdf(d1, 0.0, 1.0) * sqrt(T)\n",
      "    return vega"
     ],
     "language": "python",
     "metadata": {},
     "outputs": [],
     "prompt_number": 63
    },
    {
     "cell_type": "code",
     "collapsed": false,
     "input": [
      "V0 = 17.6639"
     ],
     "language": "python",
     "metadata": {},
     "outputs": [],
     "prompt_number": 64
    },
    {
     "cell_type": "code",
     "collapsed": false,
     "input": [
      "r = 0.01"
     ],
     "language": "python",
     "metadata": {},
     "outputs": [],
     "prompt_number": 65
    },
    {
     "cell_type": "code",
     "collapsed": false,
     "input": [
      "import pandas as pd\n",
      "h5 = pd.HDFStore('./source/vstoxx_data_31032014.h5', 'r')\n",
      "futures_data = h5['futures_data']  # VSTOXX futures data\n",
      "options_data = h5['options_data']  # VSTOXX call option data\n",
      "h5.close()"
     ],
     "language": "python",
     "metadata": {},
     "outputs": [],
     "prompt_number": 66
    },
    {
     "cell_type": "code",
     "collapsed": false,
     "input": [
      "futures_data"
     ],
     "language": "python",
     "metadata": {},
     "outputs": [
      {
       "html": [
        "<div style=\"max-height:1000px;max-width:1500px;overflow:auto;\">\n",
        "<table border=\"1\" class=\"dataframe\">\n",
        "  <thead>\n",
        "    <tr style=\"text-align: right;\">\n",
        "      <th></th>\n",
        "      <th>DATE</th>\n",
        "      <th>EXP_YEAR</th>\n",
        "      <th>EXP_MONTH</th>\n",
        "      <th>PRICE</th>\n",
        "      <th>MATURITY</th>\n",
        "      <th>TTM</th>\n",
        "    </tr>\n",
        "  </thead>\n",
        "  <tbody>\n",
        "    <tr>\n",
        "      <th>496</th>\n",
        "      <td>2014-03-31</td>\n",
        "      <td> 2014</td>\n",
        "      <td>  4</td>\n",
        "      <td> 17.85</td>\n",
        "      <td>2014-04-18</td>\n",
        "      <td> 0.049</td>\n",
        "    </tr>\n",
        "    <tr>\n",
        "      <th>497</th>\n",
        "      <td>2014-03-31</td>\n",
        "      <td> 2014</td>\n",
        "      <td>  5</td>\n",
        "      <td> 19.55</td>\n",
        "      <td>2014-05-16</td>\n",
        "      <td> 0.126</td>\n",
        "    </tr>\n",
        "    <tr>\n",
        "      <th>498</th>\n",
        "      <td>2014-03-31</td>\n",
        "      <td> 2014</td>\n",
        "      <td>  6</td>\n",
        "      <td> 19.95</td>\n",
        "      <td>2014-06-20</td>\n",
        "      <td> 0.222</td>\n",
        "    </tr>\n",
        "    <tr>\n",
        "      <th>499</th>\n",
        "      <td>2014-03-31</td>\n",
        "      <td> 2014</td>\n",
        "      <td>  7</td>\n",
        "      <td> 20.40</td>\n",
        "      <td>2014-07-18</td>\n",
        "      <td> 0.299</td>\n",
        "    </tr>\n",
        "    <tr>\n",
        "      <th>500</th>\n",
        "      <td>2014-03-31</td>\n",
        "      <td> 2014</td>\n",
        "      <td>  8</td>\n",
        "      <td> 20.70</td>\n",
        "      <td>2014-08-15</td>\n",
        "      <td> 0.375</td>\n",
        "    </tr>\n",
        "    <tr>\n",
        "      <th>501</th>\n",
        "      <td>2014-03-31</td>\n",
        "      <td> 2014</td>\n",
        "      <td>  9</td>\n",
        "      <td> 20.95</td>\n",
        "      <td>2014-09-19</td>\n",
        "      <td> 0.471</td>\n",
        "    </tr>\n",
        "    <tr>\n",
        "      <th>502</th>\n",
        "      <td>2014-03-31</td>\n",
        "      <td> 2014</td>\n",
        "      <td> 10</td>\n",
        "      <td> 21.05</td>\n",
        "      <td>2014-10-17</td>\n",
        "      <td> 0.548</td>\n",
        "    </tr>\n",
        "    <tr>\n",
        "      <th>503</th>\n",
        "      <td>2014-03-31</td>\n",
        "      <td> 2014</td>\n",
        "      <td> 11</td>\n",
        "      <td> 21.25</td>\n",
        "      <td>2014-11-21</td>\n",
        "      <td> 0.644</td>\n",
        "    </tr>\n",
        "  </tbody>\n",
        "</table>\n",
        "</div>"
       ],
       "metadata": {},
       "output_type": "pyout",
       "prompt_number": 67,
       "text": [
        "          DATE  EXP_YEAR  EXP_MONTH  PRICE   MATURITY    TTM\n",
        "496 2014-03-31      2014          4  17.85 2014-04-18  0.049\n",
        "497 2014-03-31      2014          5  19.55 2014-05-16  0.126\n",
        "498 2014-03-31      2014          6  19.95 2014-06-20  0.222\n",
        "499 2014-03-31      2014          7  20.40 2014-07-18  0.299\n",
        "500 2014-03-31      2014          8  20.70 2014-08-15  0.375\n",
        "501 2014-03-31      2014          9  20.95 2014-09-19  0.471\n",
        "502 2014-03-31      2014         10  21.05 2014-10-17  0.548\n",
        "503 2014-03-31      2014         11  21.25 2014-11-21  0.644"
       ]
      }
     ],
     "prompt_number": 67
    },
    {
     "cell_type": "code",
     "collapsed": false,
     "input": [
      "options_data.info()"
     ],
     "language": "python",
     "metadata": {},
     "outputs": [
      {
       "output_type": "stream",
       "stream": "stdout",
       "text": [
        "<class 'pandas.core.frame.DataFrame'>\n",
        "Int64Index: 395 entries, 46170 to 46564\n",
        "Data columns (total 8 columns):\n",
        "DATE         395 non-null datetime64[ns]\n",
        "EXP_YEAR     395 non-null int64\n",
        "EXP_MONTH    395 non-null int64\n",
        "TYPE         395 non-null object\n",
        "STRIKE       395 non-null float64\n",
        "PRICE        395 non-null float64\n",
        "MATURITY     395 non-null datetime64[ns]\n",
        "TTM          395 non-null float64\n",
        "dtypes: datetime64[ns](2), float64(3), int64(2), object(1)\n",
        "memory usage: 27.8+ KB\n"
       ]
      }
     ],
     "prompt_number": 68
    },
    {
     "cell_type": "code",
     "collapsed": false,
     "input": [
      "options_data[['DATE', 'MATURITY', 'TTM', 'STRIKE', 'PRICE']].head()"
     ],
     "language": "python",
     "metadata": {},
     "outputs": [
      {
       "html": [
        "<div style=\"max-height:1000px;max-width:1500px;overflow:auto;\">\n",
        "<table border=\"1\" class=\"dataframe\">\n",
        "  <thead>\n",
        "    <tr style=\"text-align: right;\">\n",
        "      <th></th>\n",
        "      <th>DATE</th>\n",
        "      <th>MATURITY</th>\n",
        "      <th>TTM</th>\n",
        "      <th>STRIKE</th>\n",
        "      <th>PRICE</th>\n",
        "    </tr>\n",
        "  </thead>\n",
        "  <tbody>\n",
        "    <tr>\n",
        "      <th>46170</th>\n",
        "      <td>2014-03-31</td>\n",
        "      <td>2014-04-18</td>\n",
        "      <td> 0.049</td>\n",
        "      <td> 1</td>\n",
        "      <td> 16.85</td>\n",
        "    </tr>\n",
        "    <tr>\n",
        "      <th>46171</th>\n",
        "      <td>2014-03-31</td>\n",
        "      <td>2014-04-18</td>\n",
        "      <td> 0.049</td>\n",
        "      <td> 2</td>\n",
        "      <td> 15.85</td>\n",
        "    </tr>\n",
        "    <tr>\n",
        "      <th>46172</th>\n",
        "      <td>2014-03-31</td>\n",
        "      <td>2014-04-18</td>\n",
        "      <td> 0.049</td>\n",
        "      <td> 3</td>\n",
        "      <td> 14.85</td>\n",
        "    </tr>\n",
        "    <tr>\n",
        "      <th>46173</th>\n",
        "      <td>2014-03-31</td>\n",
        "      <td>2014-04-18</td>\n",
        "      <td> 0.049</td>\n",
        "      <td> 4</td>\n",
        "      <td> 13.85</td>\n",
        "    </tr>\n",
        "    <tr>\n",
        "      <th>46174</th>\n",
        "      <td>2014-03-31</td>\n",
        "      <td>2014-04-18</td>\n",
        "      <td> 0.049</td>\n",
        "      <td> 5</td>\n",
        "      <td> 12.85</td>\n",
        "    </tr>\n",
        "  </tbody>\n",
        "</table>\n",
        "</div>"
       ],
       "metadata": {},
       "output_type": "pyout",
       "prompt_number": 69,
       "text": [
        "            DATE   MATURITY    TTM  STRIKE  PRICE\n",
        "46170 2014-03-31 2014-04-18  0.049       1  16.85\n",
        "46171 2014-03-31 2014-04-18  0.049       2  15.85\n",
        "46172 2014-03-31 2014-04-18  0.049       3  14.85\n",
        "46173 2014-03-31 2014-04-18  0.049       4  13.85\n",
        "46174 2014-03-31 2014-04-18  0.049       5  12.85"
       ]
      }
     ],
     "prompt_number": 69
    },
    {
     "cell_type": "code",
     "collapsed": false,
     "input": [
      "options_data['IMP_VOL'] = 0.0\n",
      "  # new column for implied volatilities"
     ],
     "language": "python",
     "metadata": {},
     "outputs": [],
     "prompt_number": 70
    },
    {
     "cell_type": "code",
     "collapsed": false,
     "input": [
      "tol = 0.5  # tolerance level for moneyness\n",
      "for option in options_data.index:\n",
      "    # iterating over all option quotes\n",
      "    forward = futures_data[futures_data['MATURITY'] == \\\n",
      "                options_data.loc[option]['MATURITY']]['PRICE'].values[0]\n",
      "      # picking the right futures value\n",
      "    if (forward * (1 - tol) < options_data.loc[option]['STRIKE']\n",
      "                             < forward * (1 + tol)):\n",
      "        # only for options with moneyness within tolerance\n",
      "        imp_vol = bsm_call_imp_vol(\n",
      "                V0,  # VSTOXX value \n",
      "                options_data.loc[option]['STRIKE'],\n",
      "                options_data.loc[option]['TTM'],\n",
      "                r,   # short rate\n",
      "                options_data.loc[option]['PRICE'],\n",
      "                sigma_est=2.,  # estimate for implied volatility\n",
      "                it=100)\n",
      "        options_data['IMP_VOL'].loc[option] = imp_vol"
     ],
     "language": "python",
     "metadata": {},
     "outputs": [],
     "prompt_number": 71
    },
    {
     "cell_type": "code",
     "collapsed": false,
     "input": [
      "futures_data['MATURITY']\n",
      "  # select the column with name MATURITY"
     ],
     "language": "python",
     "metadata": {},
     "outputs": [
      {
       "metadata": {},
       "output_type": "pyout",
       "prompt_number": 72,
       "text": [
        "496   2014-04-18\n",
        "497   2014-05-16\n",
        "498   2014-06-20\n",
        "499   2014-07-18\n",
        "500   2014-08-15\n",
        "501   2014-09-19\n",
        "502   2014-10-17\n",
        "503   2014-11-21\n",
        "Name: MATURITY, dtype: datetime64[ns]"
       ]
      }
     ],
     "prompt_number": 72
    },
    {
     "cell_type": "code",
     "collapsed": false,
     "input": [
      "options_data.loc[46170]\n",
      "  # select data row for index 46170"
     ],
     "language": "python",
     "metadata": {},
     "outputs": [
      {
       "metadata": {},
       "output_type": "pyout",
       "prompt_number": 73,
       "text": [
        "DATE         2014-03-31 00:00:00\n",
        "EXP_YEAR                    2014\n",
        "EXP_MONTH                      4\n",
        "TYPE                           C\n",
        "STRIKE                         1\n",
        "PRICE                      16.85\n",
        "MATURITY     2014-04-18 00:00:00\n",
        "TTM                        0.049\n",
        "IMP_VOL                        0\n",
        "Name: 46170, dtype: object"
       ]
      }
     ],
     "prompt_number": 73
    },
    {
     "cell_type": "code",
     "collapsed": false,
     "input": [
      "options_data.loc[46170]['STRIKE']\n",
      "  # select only the value in column STRIKE\n",
      "  # for index 46170 "
     ],
     "language": "python",
     "metadata": {},
     "outputs": [
      {
       "metadata": {},
       "output_type": "pyout",
       "prompt_number": 74,
       "text": [
        "1.0"
       ]
      }
     ],
     "prompt_number": 74
    },
    {
     "cell_type": "code",
     "collapsed": false,
     "input": [
      "plot_data = options_data[options_data['IMP_VOL'] > 0]"
     ],
     "language": "python",
     "metadata": {},
     "outputs": [],
     "prompt_number": 75
    },
    {
     "cell_type": "code",
     "collapsed": false,
     "input": [
      "maturities = sorted(set(options_data['MATURITY']))\n",
      "maturities"
     ],
     "language": "python",
     "metadata": {},
     "outputs": [
      {
       "metadata": {},
       "output_type": "pyout",
       "prompt_number": 76,
       "text": [
        "[Timestamp('2014-04-18 00:00:00'),\n",
        " Timestamp('2014-05-16 00:00:00'),\n",
        " Timestamp('2014-06-20 00:00:00'),\n",
        " Timestamp('2014-07-18 00:00:00'),\n",
        " Timestamp('2014-08-15 00:00:00'),\n",
        " Timestamp('2014-09-19 00:00:00'),\n",
        " Timestamp('2014-10-17 00:00:00'),\n",
        " Timestamp('2014-11-21 00:00:00')]"
       ]
      }
     ],
     "prompt_number": 76
    },
    {
     "cell_type": "code",
     "collapsed": false,
     "input": [
      "import matplotlib.pyplot as plt\n",
      "%matplotlib inline\n",
      "plt.figure(figsize=(8, 6))\n",
      "for maturity in maturities:\n",
      "    data = plot_data[options_data.MATURITY == maturity]\n",
      "      # select data for this maturity\n",
      "    plt.plot(data['STRIKE'], data['IMP_VOL'],\n",
      "             label=maturity.date(), lw=1.5)\n",
      "    plt.plot(data['STRIKE'], data['IMP_VOL'], 'r.')\n",
      "plt.grid(True) \n",
      "plt.xlabel('strike')\n",
      "plt.ylabel('implied volatility of volatility')\n",
      "plt.legend()\n",
      "plt.show()\n",
      "# tag: vs_imp_vol\n",
      "# title: Implied volatilities (of volatility) for European call options on the VSTOXX on 31. March 2014"
     ],
     "language": "python",
     "metadata": {},
     "outputs": [
      {
       "metadata": {},
       "output_type": "display_data",
       "png": "[encoded data removed]",
       "text": [
        "<matplotlib.figure.Figure at 0x10aff7650>"
       ]
      }
     ],
     "prompt_number": 77
    },
    {
     "cell_type": "code",
     "collapsed": false,
     "input": [
      "keep = ['PRICE', 'IMP_VOL']\n",
      "group_data = plot_data.groupby(['MATURITY', 'STRIKE'])[keep]\n",
      "group_data"
     ],
     "language": "python",
     "metadata": {},
     "outputs": [
      {
       "metadata": {},
       "output_type": "pyout",
       "prompt_number": 78,
       "text": [
        "<pandas.core.groupby.DataFrameGroupBy object at 0x10eece850>"
       ]
      }
     ],
     "prompt_number": 78
    },
    {
     "cell_type": "code",
     "collapsed": false,
     "input": [
      "group_data = group_data.sum()\n",
      "group_data.head()"
     ],
     "language": "python",
     "metadata": {},
     "outputs": [
      {
       "html": [
        "<div style=\"max-height:1000px;max-width:1500px;overflow:auto;\">\n",
        "<table border=\"1\" class=\"dataframe\">\n",
        "  <thead>\n",
        "    <tr style=\"text-align: right;\">\n",
        "      <th></th>\n",
        "      <th></th>\n",
        "      <th>PRICE</th>\n",
        "      <th>IMP_VOL</th>\n",
        "    </tr>\n",
        "    <tr>\n",
        "      <th>MATURITY</th>\n",
        "      <th>STRIKE</th>\n",
        "      <th></th>\n",
        "      <th></th>\n",
        "    </tr>\n",
        "  </thead>\n",
        "  <tbody>\n",
        "    <tr>\n",
        "      <th rowspan=\"5\" valign=\"top\">2014-04-18</th>\n",
        "      <th>9 </th>\n",
        "      <td> 8.85</td>\n",
        "      <td> 2.083388</td>\n",
        "    </tr>\n",
        "    <tr>\n",
        "      <th>10</th>\n",
        "      <td> 7.85</td>\n",
        "      <td> 1.804193</td>\n",
        "    </tr>\n",
        "    <tr>\n",
        "      <th>11</th>\n",
        "      <td> 6.85</td>\n",
        "      <td> 1.550283</td>\n",
        "    </tr>\n",
        "    <tr>\n",
        "      <th>12</th>\n",
        "      <td> 5.85</td>\n",
        "      <td> 1.316103</td>\n",
        "    </tr>\n",
        "    <tr>\n",
        "      <th>13</th>\n",
        "      <td> 4.85</td>\n",
        "      <td> 1.097184</td>\n",
        "    </tr>\n",
        "  </tbody>\n",
        "</table>\n",
        "</div>"
       ],
       "metadata": {},
       "output_type": "pyout",
       "prompt_number": 79,
       "text": [
        "                   PRICE   IMP_VOL\n",
        "MATURITY   STRIKE                 \n",
        "2014-04-18 9        8.85  2.083388\n",
        "           10       7.85  1.804193\n",
        "           11       6.85  1.550283\n",
        "           12       5.85  1.316103\n",
        "           13       4.85  1.097184"
       ]
      }
     ],
     "prompt_number": 79
    },
    {
     "cell_type": "code",
     "collapsed": false,
     "input": [
      "group_data.index.levels"
     ],
     "language": "python",
     "metadata": {},
     "outputs": [
      {
       "metadata": {},
       "output_type": "pyout",
       "prompt_number": 80,
       "text": [
        "FrozenList([[2014-04-18 00:00:00, 2014-05-16 00:00:00, 2014-06-20 00:00:00, 2014-07-18 00:00:00, 2014-08-15 00:00:00, 2014-09-19 00:00:00, 2014-10-17 00:00:00, 2014-11-21 00:00:00], [9.0, 10.0, 11.0, 12.0, 13.0, 14.0, 15.0, 16.0, 17.0, 18.0, 19.0, 20.0, 21.0, 22.0, 23.0, 24.0, 25.0, 26.0, 27.0, 28.0, 29.0, 30.0]])"
       ]
      }
     ],
     "prompt_number": 80
    },
    {
     "cell_type": "heading",
     "level": 2,
     "metadata": {},
     "source": [
      "Monte Carlo simulation"
     ]
    },
    {
     "cell_type": "markdown",
     "metadata": {},
     "source": [
      "* Pure Python\n",
      "* Vectorization with NumPy\n",
      "* Full Vectorization with Log Euler Scheme\n",
      "* Graphical Analysis"
     ]
    },
    {
     "cell_type": "markdown",
     "metadata": {},
     "source": [
      "The evolution of a stock index over time is simulated via Monte Calo techniques, selected results are visualized, and European option values are calcuated. Monte Carlo simulation is a cornerston for numerical option pricing as well as for risk management efforts involving value-at-risk calculations or credit value adjustments."
     ]
    },
    {
     "cell_type": "markdown",
     "metadata": {},
     "source": [
      "<img src='figures/eq3-5.png'width=600 />"
     ]
    },
    {
     "cell_type": "heading",
     "level": 2,
     "metadata": {},
     "source": [
      "<I>Equation 3-6. Euler discretization of SDE</I>"
     ]
    },
    {
     "cell_type": "markdown",
     "metadata": {},
     "source": [
      "<img src='figures/eq3-6.png' width=600 />"
     ]
    },
    {
     "cell_type": "code",
     "collapsed": false,
     "input": [
      "S0 = 100.\n",
      "K = 105.\n",
      "T = 1.0\n",
      "r = 0.05\n",
      "sigma = 0.2\n",
      "bsm_call_value(S0, K, T, r, sigma)"
     ],
     "language": "python",
     "metadata": {},
     "outputs": [
      {
       "metadata": {},
       "output_type": "pyout",
       "prompt_number": 81,
       "text": [
        "8.0213522351431834"
       ]
      }
     ],
     "prompt_number": 81
    },
    {
     "cell_type": "heading",
     "level": 4,
     "metadata": {},
     "source": [
      "To Implement a Monte Carlo valuation of the European call option, the following recipe can be applied :"
     ]
    },
    {
     "cell_type": "markdown",
     "metadata": {},
     "source": [
      "<img src='figures/mc_steps.png' width=600 />"
     ]
    },
    {
     "cell_type": "markdown",
     "metadata": {},
     "source": [
      "<img src='figures/eq3-7.png' width=600 />"
     ]
    },
    {
     "cell_type": "heading",
     "level": 3,
     "metadata": {},
     "source": [
      "Pure Python "
     ]
    },
    {
     "cell_type": "code",
     "collapsed": false,
     "input": [
      "#\n",
      "# Monte Carlo valuation of European call options with pure Python\n",
      "# mcs_pure_python.py\n",
      "#\n",
      "\n",
      "from time import time\n",
      "from math import exp, sqrt, log\n",
      "from random import gauss, seed\n",
      "\n",
      "seed(20000)\n",
      "t0 = time()\n",
      "\n",
      "# Parameters\n",
      "S0 = 100.  # initial value\n",
      "K = 105.  # strike price\n",
      "T = 1.0  # maturity\n",
      "r = 0.05  # riskless short rate\n",
      "sigma = 0.2  # volatility\n",
      "M = 50  # number of time steps\n",
      "dt = T / M  # length of time interval\n",
      "I = 250000  # number of paths\n",
      "\n",
      "# Simulating I paths with M time steps\n",
      "S = []\n",
      "for i in range(I):\n",
      "    path = []\n",
      "    for t in range(M + 1):\n",
      "        if t == 0:\n",
      "            path.append(S0)\n",
      "        else:\n",
      "            z = gauss(0.0, 1.0)\n",
      "            St = path[t - 1] * exp((r - 0.5 * sigma ** 2) * dt\n",
      "                                  + sigma * sqrt(dt) * z)\n",
      "            path.append(St)\n",
      "    S.append(path)\n",
      "    \n",
      "# Calculating the Monte Carlo estimator\n",
      "C0 = exp(-r * T) * sum([max(path[-1] - K, 0) for path in S]) / I\n",
      "\n",
      "# Results output\n",
      "tpy = time() - t0\n",
      "print \"European Option Value %7.3f\" % C0\n",
      "print \"Duration in Seconds   %7.3f\" % tpy"
     ],
     "language": "python",
     "metadata": {},
     "outputs": [
      {
       "output_type": "stream",
       "stream": "stdout",
       "text": [
        "European Option Value   7.999\n",
        "Duration in Seconds    33.528\n"
       ]
      }
     ],
     "prompt_number": 22
    },
    {
     "cell_type": "code",
     "collapsed": false,
     "input": [
      "# \uc704\uc758 \ucf54\ub4dc\ub97c mcs_pure_python.py\ub77c\ub294 \uc774\ub984\uc758 \uc2a4\ud06c\ub9bd\ud2b8 \ud30c\uc77c\ub85c \ub9cc\ub4e4\uc5b4 \uc800\uc7a5\ud6c4 \uc2e4\ud589\ud55c\ub2e4.\n",
      "%run mcs_pure_python.py"
     ],
     "language": "python",
     "metadata": {},
     "outputs": [
      {
       "output_type": "stream",
       "stream": "stdout",
       "text": [
        "European Option Value   7.999\n",
        "Duration in Seconds    29.672\n"
       ]
      }
     ],
     "prompt_number": 23
    },
    {
     "cell_type": "code",
     "collapsed": false,
     "input": [
      "sum_val = 0.0\n",
      "for path in S:\n",
      "    # C-like iteration for comparison\n",
      "    sum_val += max(path[-1] - K, 0)\n",
      "C0 = exp(-r * T) * sum_val / I\n",
      "round(C0, 3)"
     ],
     "language": "python",
     "metadata": {},
     "outputs": [
      {
       "metadata": {},
       "output_type": "pyout",
       "prompt_number": 24,
       "text": [
        "7.999"
       ]
      }
     ],
     "prompt_number": 24
    },
    {
     "cell_type": "heading",
     "level": 3,
     "metadata": {},
     "source": [
      "Vectorization with NumPy"
     ]
    },
    {
     "cell_type": "markdown",
     "metadata": {},
     "source": [
      "<img src='figures/eg_vec.png' width=400 />"
     ]
    },
    {
     "cell_type": "code",
     "collapsed": false,
     "input": [
      "# list\n",
      "v = range(1, 6)\n",
      "print v"
     ],
     "language": "python",
     "metadata": {},
     "outputs": [
      {
       "output_type": "stream",
       "stream": "stdout",
       "text": [
        "[1, 2, 3, 4, 5]\n"
       ]
      }
     ],
     "prompt_number": 25
    },
    {
     "cell_type": "code",
     "collapsed": false,
     "input": [
      "2 * v"
     ],
     "language": "python",
     "metadata": {},
     "outputs": [
      {
       "metadata": {},
       "output_type": "pyout",
       "prompt_number": 26,
       "text": [
        "[1, 2, 3, 4, 5, 1, 2, 3, 4, 5]"
       ]
      }
     ],
     "prompt_number": 26
    },
    {
     "cell_type": "code",
     "collapsed": false,
     "input": [
      "# numpy's ndarray\n",
      "v = np.arange(1,6)\n",
      "v"
     ],
     "language": "python",
     "metadata": {},
     "outputs": [
      {
       "metadata": {},
       "output_type": "pyout",
       "prompt_number": 2,
       "text": [
        "array([1, 2, 3, 4, 5])"
       ]
      }
     ],
     "prompt_number": 2
    },
    {
     "cell_type": "code",
     "collapsed": false,
     "input": [
      "2 * v"
     ],
     "language": "python",
     "metadata": {},
     "outputs": [
      {
       "metadata": {},
       "output_type": "pyout",
       "prompt_number": 3,
       "text": [
        "array([ 2,  4,  6,  8, 10])"
       ]
      }
     ],
     "prompt_number": 3
    },
    {
     "cell_type": "code",
     "collapsed": false,
     "input": [
      "#\n",
      "# Monte Carlo valuation of European call options with NumPy\n",
      "# mcs_vector_numpy.py\n",
      "#\n",
      "import math\n",
      "import numpy as np\n",
      "from time import time\n",
      "\n",
      "np.random.seed(20000)\n",
      "t0 = time()\n",
      "\n",
      "# Parameters\n",
      "S0 = 100.; K = 105.; T = 1.0; r = 0.05; sigma = 0.2\n",
      "M = 50; dt = T / M; I = 250000\n",
      "\n",
      "# Simulating I paths with M time steps\n",
      "S = np.zeros((M + 1, I))\n",
      "S[0] = S0\n",
      "for t in range(1, M + 1):\n",
      "    z = np.random.standard_normal(I)  # pseudorandom numbers\n",
      "    S[t] = S[t - 1] * np.exp((r - 0.5 * sigma ** 2) * dt\n",
      "                                  + sigma * math.sqrt(dt) * z)\n",
      "      # vectorized operation per time step over all paths\n",
      "    \n",
      "# Calculating the Monte Carlo estimator\n",
      "C0 = math.exp(-r * T) * np.sum(np.maximum(S[-1] - K, 0)) / I\n",
      "\n",
      "# Results output\n",
      "tnp1 = time() - t0\n",
      "print \"European Option Value %7.3f\" % C0\n",
      "print \"Duration in Seconds   %7.3f\" % tnp1"
     ],
     "language": "python",
     "metadata": {},
     "outputs": [
      {
       "output_type": "stream",
       "stream": "stdout",
       "text": [
        "European Option Value   8.037\n",
        "Duration in Seconds     1.065\n"
       ]
      }
     ],
     "prompt_number": 27
    },
    {
     "cell_type": "code",
     "collapsed": false,
     "input": [
      "# \uc704\uc758 \ucf54\ub4dc\ub97c mcs_vector_numpy.py\ub77c\ub294 \uc774\ub984\uc758 \uc2a4\ud06c\ub9bd\ud2b8 \ud30c\uc77c\ub85c \ub9cc\ub4e4\uc5b4 \uc800\uc7a5\ud6c4 \uc2e4\ud589\ud55c\ub2e4.\n",
      "%run mcs_vector_numpy.py"
     ],
     "language": "python",
     "metadata": {},
     "outputs": [
      {
       "output_type": "stream",
       "stream": "stdout",
       "text": [
        "European Option Value   8.037\n",
        "Duration in Seconds     0.825\n"
       ]
      }
     ],
     "prompt_number": 28
    },
    {
     "cell_type": "code",
     "collapsed": false,
     "input": [
      "round(tpy / tnp1, 2)"
     ],
     "language": "python",
     "metadata": {},
     "outputs": [
      {
       "metadata": {},
       "output_type": "pyout",
       "prompt_number": 30,
       "text": [
        "35.99"
       ]
      }
     ],
     "prompt_number": 30
    },
    {
     "cell_type": "heading",
     "level": 3,
     "metadata": {},
     "source": [
      "Full Vectorization with Log Euler Scheme"
     ]
    },
    {
     "cell_type": "markdown",
     "metadata": {},
     "source": [
      "<img src='figures/eq3-8.png' width=600 />"
     ]
    },
    {
     "cell_type": "code",
     "collapsed": false,
     "input": [
      "#\n",
      "# Monte Carlo valuation of European call options with NumPy (log version)\n",
      "# mcs_full_vector_numpy.py\n",
      "#\n",
      "import math\n",
      "from numpy import *\n",
      "from time import time\n",
      "  # star import for shorter code\n",
      "\n",
      "random.seed(20000)\n",
      "t0 = time()\n",
      "\n",
      "# Parameters\n",
      "S0 = 100.; K = 105.; T = 1.0; r = 0.05; sigma = 0.2\n",
      "M = 50; dt = T / M; I = 250000\n",
      "\n",
      "# Simulating I paths with M time steps\n",
      "S = S0 * exp(cumsum((r - 0.5 * sigma ** 2) * dt\n",
      "            + sigma * math.sqrt(dt) \n",
      "                    * random.standard_normal((M + 1, I)), axis=0))\n",
      "  # sum instead of cumsum would also do\n",
      "  # if only the final values are of interest\n",
      "S[0] = S0\n",
      "    \n",
      "# Calculating the Monte Carlo estimator\n",
      "C0 = math.exp(-r * T) * sum(maximum(S[-1] - K, 0)) / I\n",
      "\n",
      "# Results output\n",
      "tnp2 = time() - t0\n",
      "print \"European Option Value %7.3f\" % C0\n",
      "print \"Duration in Seconds   %7.3f\" % tnp2"
     ],
     "language": "python",
     "metadata": {},
     "outputs": [
      {
       "output_type": "stream",
       "stream": "stdout",
       "text": [
        "European Option Value   8.166\n",
        "Duration in Seconds     0.904\n"
       ]
      }
     ],
     "prompt_number": 41
    },
    {
     "cell_type": "code",
     "collapsed": false,
     "input": [
      "# \uc704\uc758 \ucf54\ub4dc\ub97c mcs_full_vector_numpy.py\ub77c\ub294 \uc774\ub984\uc758 \uc2a4\ud06c\ub9bd\ud2b8 \ud30c\uc77c\ub85c \ub9cc\ub4e4\uc5b4 \uc800\uc7a5\ud6c4 \uc2e4\ud589\ud55c\ub2e4.\n",
      "%run mcs_full_vector_numpy.py"
     ],
     "language": "python",
     "metadata": {},
     "outputs": [
      {
       "output_type": "stream",
       "stream": "stdout",
       "text": [
        "European Option Value   8.166\n",
        "Duration in Seconds     0.901\n"
       ]
      }
     ],
     "prompt_number": 42
    },
    {
     "cell_type": "heading",
     "level": 3,
     "metadata": {},
     "source": [
      "Graphical Analysis"
     ]
    },
    {
     "cell_type": "code",
     "collapsed": false,
     "input": [
      "import matplotlib.pyplot as plt\n",
      "plt.plot(S[:, :10])\n",
      "plt.grid(True)\n",
      "plt.xlabel('time step')\n",
      "plt.ylabel('index level')\n",
      "# tag: index_paths\n",
      "# title: The first 10 simulated index level paths"
     ],
     "language": "python",
     "metadata": {},
     "outputs": [
      {
       "metadata": {},
       "output_type": "pyout",
       "prompt_number": 43,
       "text": [
        "<matplotlib.text.Text at 0x10eadbb10>"
       ]
      },
      {
       "metadata": {},
       "output_type": "display_data",
       "png": "[encoded data removed]",
       "text": [
        "<matplotlib.figure.Figure at 0x10eab5250>"
       ]
      }
     ],
     "prompt_number": 43
    },
    {
     "cell_type": "code",
     "collapsed": false,
     "input": [
      "plt.hist(S[-1], bins=50)\n",
      "plt.grid(True)\n",
      "plt.xlabel('index level')\n",
      "plt.ylabel('frequency')\n",
      "# tag: index_histo\n",
      "# title: Histogram of all simulated end of period index level values"
     ],
     "language": "python",
     "metadata": {},
     "outputs": [
      {
       "metadata": {},
       "output_type": "pyout",
       "prompt_number": 44,
       "text": [
        "<matplotlib.text.Text at 0x1113bcb10>"
       ]
      },
      {
       "metadata": {},
       "output_type": "display_data",
       "png": "[encoded data removed]",
       "text": [
        "<matplotlib.figure.Figure at 0x10eaaf310>"
       ]
      }
     ],
     "prompt_number": 44
    },
    {
     "cell_type": "code",
     "collapsed": false,
     "input": [
      "plt.hist(np.maximum(S[-1] - K, 0), bins=50)\n",
      "plt.grid(True)\n",
      "plt.xlabel('option inner value')\n",
      "plt.ylabel('frequency')\n",
      "plt.ylim(0, 50000)\n",
      "# tag: option_iv_hist\n",
      "# title: Histogram of all simulated end of period option inner values"
     ],
     "language": "python",
     "metadata": {},
     "outputs": [
      {
       "metadata": {},
       "output_type": "pyout",
       "prompt_number": 45,
       "text": [
        "(0, 50000)"
       ]
      },
      {
       "metadata": {},
       "output_type": "display_data",
       "png": "[encoded data removed]",
       "text": [
        "<matplotlib.figure.Figure at 0x10eacc350>"
       ]
      }
     ],
     "prompt_number": 45
    },
    {
     "cell_type": "code",
     "collapsed": false,
     "input": [
      "sum(S[-1] < K)"
     ],
     "language": "python",
     "metadata": {},
     "outputs": [
      {
       "metadata": {},
       "output_type": "pyout",
       "prompt_number": 46,
       "text": [
        "133533"
       ]
      }
     ],
     "prompt_number": 46
    },
    {
     "cell_type": "heading",
     "level": 2,
     "metadata": {},
     "source": [
      "Technical analysis"
     ]
    },
    {
     "cell_type": "markdown",
     "metadata": {},
     "source": [
      "An analysis of historical time series data is implemented to backtest an investment strategy based on trend signals; both professional investors and ambitious amateurs regularly engage in this kind of investment analysis."
     ]
    },
    {
     "cell_type": "code",
     "collapsed": false,
     "input": [
      "import numpy as np\n",
      "import pandas as pd\n",
      "import pandas.io.data as web"
     ],
     "language": "python",
     "metadata": {},
     "outputs": [],
     "prompt_number": 47
    },
    {
     "cell_type": "code",
     "collapsed": false,
     "input": [
      "sp500 = web.DataReader('^GSPC', data_source='yahoo',\n",
      "                       start='1/1/2000', end='4/14/2014')\n",
      "sp500.info()"
     ],
     "language": "python",
     "metadata": {},
     "outputs": [
      {
       "output_type": "stream",
       "stream": "stdout",
       "text": [
        "<class 'pandas.core.frame.DataFrame'>\n",
        "DatetimeIndex: 3592 entries, 2000-01-03 00:00:00 to 2014-04-14 00:00:00\n",
        "Data columns (total 6 columns):\n",
        "Open         3592 non-null float64\n",
        "High         3592 non-null float64\n",
        "Low          3592 non-null float64\n",
        "Close        3592 non-null float64\n",
        "Volume       3592 non-null int64\n",
        "Adj Close    3592 non-null float64\n",
        "dtypes: float64(5), int64(1)\n",
        "memory usage: 196.4 KB\n"
       ]
      }
     ],
     "prompt_number": 48
    },
    {
     "cell_type": "code",
     "collapsed": false,
     "input": [
      "sp500['Close'].plot(grid=True, figsize=(8, 5))\n",
      "# tag: sp500\n",
      "# title: Historical levels of the S&P 500 index"
     ],
     "language": "python",
     "metadata": {},
     "outputs": [
      {
       "metadata": {},
       "output_type": "pyout",
       "prompt_number": 49,
       "text": [
        "<matplotlib.axes._subplots.AxesSubplot at 0x10ef02190>"
       ]
      },
      {
       "metadata": {},
       "output_type": "display_data",
       "png": "[encoded data removed]",
       "text": [
        "<matplotlib.figure.Figure at 0x10eecec50>"
       ]
      }
     ],
     "prompt_number": 49
    },
    {
     "cell_type": "code",
     "collapsed": false,
     "input": [
      "sp500['42d'] = np.round(pd.rolling_mean(sp500['Close'], window=42), 2)\n",
      "sp500['252d'] = np.round(pd.rolling_mean(sp500['Close'], window=252), 2)"
     ],
     "language": "python",
     "metadata": {},
     "outputs": [],
     "prompt_number": 50
    },
    {
     "cell_type": "code",
     "collapsed": false,
     "input": [
      "sp500[['Close', '42d', '252d']].tail()"
     ],
     "language": "python",
     "metadata": {},
     "outputs": [
      {
       "html": [
        "<div style=\"max-height:1000px;max-width:1500px;overflow:auto;\">\n",
        "<table border=\"1\" class=\"dataframe\">\n",
        "  <thead>\n",
        "    <tr style=\"text-align: right;\">\n",
        "      <th></th>\n",
        "      <th>Close</th>\n",
        "      <th>42d</th>\n",
        "      <th>252d</th>\n",
        "    </tr>\n",
        "    <tr>\n",
        "      <th>Date</th>\n",
        "      <th></th>\n",
        "      <th></th>\n",
        "      <th></th>\n",
        "    </tr>\n",
        "  </thead>\n",
        "  <tbody>\n",
        "    <tr>\n",
        "      <th>2014-04-08</th>\n",
        "      <td> 1851.96</td>\n",
        "      <td> 1853.88</td>\n",
        "      <td> 1728.66</td>\n",
        "    </tr>\n",
        "    <tr>\n",
        "      <th>2014-04-09</th>\n",
        "      <td> 1872.18</td>\n",
        "      <td> 1855.66</td>\n",
        "      <td> 1729.79</td>\n",
        "    </tr>\n",
        "    <tr>\n",
        "      <th>2014-04-10</th>\n",
        "      <td> 1833.08</td>\n",
        "      <td> 1856.46</td>\n",
        "      <td> 1730.74</td>\n",
        "    </tr>\n",
        "    <tr>\n",
        "      <th>2014-04-11</th>\n",
        "      <td> 1815.69</td>\n",
        "      <td> 1856.36</td>\n",
        "      <td> 1731.64</td>\n",
        "    </tr>\n",
        "    <tr>\n",
        "      <th>2014-04-14</th>\n",
        "      <td> 1830.61</td>\n",
        "      <td> 1856.63</td>\n",
        "      <td> 1732.74</td>\n",
        "    </tr>\n",
        "  </tbody>\n",
        "</table>\n",
        "</div>"
       ],
       "metadata": {},
       "output_type": "pyout",
       "prompt_number": 51,
       "text": [
        "              Close      42d     252d\n",
        "Date                                 \n",
        "2014-04-08  1851.96  1853.88  1728.66\n",
        "2014-04-09  1872.18  1855.66  1729.79\n",
        "2014-04-10  1833.08  1856.46  1730.74\n",
        "2014-04-11  1815.69  1856.36  1731.64\n",
        "2014-04-14  1830.61  1856.63  1732.74"
       ]
      }
     ],
     "prompt_number": 51
    },
    {
     "cell_type": "code",
     "collapsed": false,
     "input": [
      "sp500[['Close', '42d', '252d']].plot(grid=True, figsize=(8, 5))\n",
      "# tag: sp500_trend\n",
      "# title: The S&P 500 index with 42d and 252d trend lines"
     ],
     "language": "python",
     "metadata": {},
     "outputs": [
      {
       "metadata": {},
       "output_type": "pyout",
       "prompt_number": 52,
       "text": [
        "<matplotlib.axes._subplots.AxesSubplot at 0x10ee9fa50>"
       ]
      },
      {
       "metadata": {},
       "output_type": "display_data",
       "png": "[encoded data removed]",
       "text": [
        "<matplotlib.figure.Figure at 0x10f06fe10>"
       ]
      }
     ],
     "prompt_number": 52
    },
    {
     "cell_type": "code",
     "collapsed": false,
     "input": [
      "sp500['42-252'] = sp500['42d'] - sp500['252d']\n",
      "sp500['42-252'].tail()"
     ],
     "language": "python",
     "metadata": {},
     "outputs": [
      {
       "metadata": {},
       "output_type": "pyout",
       "prompt_number": 53,
       "text": [
        "Date\n",
        "2014-04-08    125.22\n",
        "2014-04-09    125.87\n",
        "2014-04-10    125.72\n",
        "2014-04-11    124.72\n",
        "2014-04-14    123.89\n",
        "Name: 42-252, dtype: float64"
       ]
      }
     ],
     "prompt_number": 53
    },
    {
     "cell_type": "code",
     "collapsed": false,
     "input": [
      "sp500['42-252'].head()"
     ],
     "language": "python",
     "metadata": {},
     "outputs": [
      {
       "metadata": {},
       "output_type": "pyout",
       "prompt_number": 54,
       "text": [
        "Date\n",
        "2000-01-03   NaN\n",
        "2000-01-04   NaN\n",
        "2000-01-05   NaN\n",
        "2000-01-06   NaN\n",
        "2000-01-07   NaN\n",
        "Name: 42-252, dtype: float64"
       ]
      }
     ],
     "prompt_number": 54
    },
    {
     "cell_type": "code",
     "collapsed": false,
     "input": [
      "SD = 50\n",
      "sp500['Regime'] = np.where(sp500['42-252'] > SD, 1, 0)\n",
      "sp500['Regime'] = np.where(sp500['42-252'] < -SD, -1, sp500['Regime'])\n",
      "sp500['Regime'].value_counts()"
     ],
     "language": "python",
     "metadata": {},
     "outputs": [
      {
       "metadata": {},
       "output_type": "pyout",
       "prompt_number": 55,
       "text": [
        " 1    1489\n",
        " 0    1232\n",
        "-1     871\n",
        "dtype: int64"
       ]
      }
     ],
     "prompt_number": 55
    },
    {
     "cell_type": "code",
     "collapsed": false,
     "input": [
      "sp500['Regime'].plot(lw=1.5)\n",
      "plt.ylim([-1.1, 1.1])\n",
      "# tag: sp500_signal\n",
      "# title: Signal regimes over time"
     ],
     "language": "python",
     "metadata": {},
     "outputs": [
      {
       "metadata": {},
       "output_type": "pyout",
       "prompt_number": 56,
       "text": [
        "(-1.1, 1.1)"
       ]
      },
      {
       "metadata": {},
       "output_type": "display_data",
       "png": "[encoded data removed]",
       "text": [
        "<matplotlib.figure.Figure at 0x10ef0f850>"
       ]
      }
     ],
     "prompt_number": 56
    },
    {
     "cell_type": "code",
     "collapsed": false,
     "input": [
      "sp500['Market'] = np.log(sp500['Close'] / sp500['Close'].shift(1))"
     ],
     "language": "python",
     "metadata": {},
     "outputs": [],
     "prompt_number": 57
    },
    {
     "cell_type": "code",
     "collapsed": false,
     "input": [
      "sp500['Strategy'] = sp500['Regime'].shift(1) * sp500['Market']"
     ],
     "language": "python",
     "metadata": {},
     "outputs": [],
     "prompt_number": 58
    },
    {
     "cell_type": "code",
     "collapsed": false,
     "input": [
      "sp500[['Market', 'Strategy']].cumsum().apply(np.exp).plot(grid=True,\n",
      "                                                    figsize=(8, 5))\n",
      "# tag: sp500_wealth\n",
      "# title: The S&P 500 index vs. investor's wealth"
     ],
     "language": "python",
     "metadata": {},
     "outputs": [
      {
       "metadata": {},
       "output_type": "pyout",
       "prompt_number": 59,
       "text": [
        "<matplotlib.axes._subplots.AxesSubplot at 0x10ee2e2d0>"
       ]
      },
      {
       "metadata": {},
       "output_type": "display_data",
       "png": "[encoded data removed]",
       "text": [
        "<matplotlib.figure.Figure at 0x10ef70310>"
       ]
      }
     ],
     "prompt_number": 59
    },
    {
     "cell_type": "heading",
     "level": 2,
     "metadata": {},
     "source": [
      "Conclusion"
     ]
    },
    {
     "cell_type": "markdown",
     "metadata": {},
     "source": [
      "* Calculation of implied volatilities\n",
      " - Using real-world data, in the form of a cross section of option data for a given day, we calculate numerically the implied volatilities of European call options on the VSTOXX volatility index. This example introduces some custom Python functions (e.g., for analytical option valuation) and uses functionality from NumPy, SciPy, and pandas.\n",
      "\n",
      "* Monte Carlo simulation\n",
      " - Using different implementation approaches, we simulate the evolution of an index level over time and use our simulated end-of-period values to derive Monte Carlo estimators for European call options. Using NumPy, the major benefits of vectorization of Python code are illustrated: namely, compactness of code and speed of execution.\n",
      "\n",
      "* Backtesting of trend signal strategy\n",
      " - Using real historical time series data for the S&P 500, we backtest the performance of a trading strategy based on signals generated by 42-day and 252-day trends (moving averages). This example illustrates the capabilities and convenience of pandas when it comes to time series analytics."
     ]
    }
   ],
   "metadata": {}
  }
 ]
}